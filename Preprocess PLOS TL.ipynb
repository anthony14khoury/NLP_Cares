{
 "cells": [
  {
   "cell_type": "markdown",
   "id": "fff275ae-e91c-49d8-958b-0f24e4607d8f",
   "metadata": {},
   "source": [
    "This code is for preprocessing the plos corpus which will be used for fine tuning"
   ]
  },
  {
   "cell_type": "code",
   "execution_count": 1,
   "id": "5501579b-4d3b-4071-aaaa-1fbf853c1f14",
   "metadata": {},
   "outputs": [],
   "source": [
    "import json\n",
    "import numpy as np\n",
    "\n",
    "def preprocess_jsonl(input_file):\n",
    "    pls_data = []\n",
    "    article_data = []\n",
    "    with open(input_file, 'r') as f:\n",
    "        for line in f:\n",
    "            # Parse JSON object from each line\n",
    "            data = json.loads(line)\n",
    "            \n",
    "            # Extract PLS and article fields\n",
    "            pls = data.get('plain language summary', '')\n",
    "            article = data.get('article', '')\n",
    "            \n",
    "            # Append PLS and article to respective lists\n",
    "            pls_data.append(pls)\n",
    "            article_data.append(article)\n",
    "    \n",
    "    return pls_data, article_data\n"
   ]
  },
  {
   "cell_type": "code",
   "execution_count": null,
   "id": "3dc4b8b7-79e7-4b57-8a60-b9bbe44edd2c",
   "metadata": {},
   "outputs": [],
   "source": [
    "# Train PLOS\n",
    "train_pls, train_article = preprocess_jsonl('train_plos.jsonl')\n",
    "\n",
    "train_pls_array = np.array(train_pls, dtype='object')\n",
    "train_article_array = np.array(train_article, dtype='object')\n",
    "\n",
    "train_pls_output_file = 'train_pls_plos.npy'\n",
    "np.save(train_pls_output_file, train_pls_array)\n",
    "\n",
    "train_article_output_file = 'train_article_plos.npy'\n",
    "np.save(train_article_output_file, train_article_array)"
   ]
  },
  {
   "cell_type": "code",
   "execution_count": null,
   "id": "8be35954-360f-4e31-898f-3436febffd27",
   "metadata": {},
   "outputs": [],
   "source": [
    "dev_pls, dev_article = preprocess_jsonl('dev_plos.jsonl')\n",
    "\n",
    "dev_pls_array = np.array(dev_pls, dtype='object')\n",
    "dev_article_array = np.array(dev_article, dtype='object')\n",
    "\n",
    "dev_pls_output_file = 'dev_pls_plos.npy'\n",
    "np.save(dev_pls_output_file, dev_pls_array)\n",
    "\n",
    "dev_article_output_file = 'dev_article_plos.npy'\n",
    "np.save(dev_article_output_file, dev_article_array)"
   ]
  },
  {
   "cell_type": "code",
   "execution_count": null,
   "id": "92f7bb8f-060e-4d56-9c4b-f3116b6e65b3",
   "metadata": {},
   "outputs": [],
   "source": [
    "test_pls, test_article = preprocess_jsonl('test_plos.jsonl')\n",
    "\n",
    "test_pls_array = np.array(test_pls, dtype='object')\n",
    "test_article_array = np.array(test_article, dtype='object')\n",
    "\n",
    "test_pls_output_file = 'test_pls_plos.npy'\n",
    "np.save(test_pls_output_file, test_pls_array)\n",
    "\n",
    "test_article_output_file = 'test_article_plos.npy'\n",
    "np.save(test_article_output_file, test_article_array)"
   ]
  },
  {
   "cell_type": "code",
   "execution_count": null,
   "id": "2d3632fb-9e8b-41fc-b133-71637059ab03",
   "metadata": {},
   "outputs": [],
   "source": [
    "print(test_pls_array[0])\n",
    "print(test_article_array[0])"
   ]
  },
  {
   "cell_type": "code",
   "execution_count": null,
   "id": "832a930a-029d-4562-b5b8-8a48168ff387",
   "metadata": {},
   "outputs": [],
   "source": [
    "data = np.load('train_pls_plos.npy', allow_pickle=True)\n",
    "\n",
    "# Print the loaded data\n",
    "print(data)"
   ]
  },
  {
   "cell_type": "code",
   "execution_count": null,
   "id": "c4218469-a277-48f1-a241-e26f8fb182e7",
   "metadata": {},
   "outputs": [],
   "source": []
  }
 ],
 "metadata": {
  "kernelspec": {
   "display_name": "Python 3 (ipykernel)",
   "language": "python",
   "name": "python3"
  },
  "language_info": {
   "codemirror_mode": {
    "name": "ipython",
    "version": 3
   },
   "file_extension": ".py",
   "mimetype": "text/x-python",
   "name": "python",
   "nbconvert_exporter": "python",
   "pygments_lexer": "ipython3",
   "version": "3.11.7"
  }
 },
 "nbformat": 4,
 "nbformat_minor": 5
}
