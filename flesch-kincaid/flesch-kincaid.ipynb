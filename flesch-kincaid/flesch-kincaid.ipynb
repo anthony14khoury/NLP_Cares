{
 "cells": [
  {
   "cell_type": "code",
   "execution_count": null,
   "id": "2740d0dc-dbcd-41ef-87dd-50ac9a6c1d31",
   "metadata": {},
   "outputs": [],
   "source": [
    "# https://goodcalculators.com/flesch-kincaid-calculator/\n",
    "# Used online calculator because python library requires 100+ words\n",
    "\n",
    "Output 1\n",
    "\n",
    "'''\n",
    "Flesh-Kincaid Grade Level: 8.8\n",
    "Flesch Reading Ease Score: 51.7\n",
    "Reading Level: 10th to 12th grade ( Fairly difficult to read )\n",
    "\n",
    "Flesh-Kincaid Grade Level: 14.4\n",
    "Flesch Reading Ease Score: 31.7\n",
    "Reading Level: College ( Difficult to read )\n",
    "'''"
   ]
  },
  {
   "cell_type": "code",
   "execution_count": null,
   "id": "993395e3-eb73-4b43-acef-df2ad07725ba",
   "metadata": {},
   "outputs": [],
   "source": [
    "Output 2\n",
    "\n",
    "'''\n",
    "Flesh-Kincaid Grade Level: 8.5\n",
    "Flesch Reading Ease Score: 47.1\n",
    "Reading Level: College ( Difficult to read )\n",
    "\n",
    "Flesh-Kincaid Grade Level: 7.9\n",
    "Flesch Reading Ease Score: 54.1\n",
    "Reading Level: 10th to 12th grade ( Fairly difficult to read )\n",
    "'''"
   ]
  },
  {
   "cell_type": "code",
   "execution_count": null,
   "id": "6d843ba7-7bd1-4210-ba90-889402d79881",
   "metadata": {},
   "outputs": [],
   "source": [
    "Output 3\n",
    "\n",
    "'''\n",
    "Flesh-Kincaid Grade Level: 10.2\n",
    "Flesch Reading Ease Score: 48\n",
    "Reading Level: College ( Difficult to read )\n",
    "\n",
    "Flesh-Kincaid Grade Level: 11.2\n",
    "Flesch Reading Ease Score: 40\n",
    "Reading Level: College ( Difficult to read )\n",
    "'''"
   ]
  },
  {
   "cell_type": "code",
   "execution_count": null,
   "id": "08e00e3e-7d85-431e-9de5-6aa22bffcaac",
   "metadata": {},
   "outputs": [],
   "source": [
    "Output 4\n",
    "\n",
    "'''\n",
    "Flesh-Kincaid Grade Level: 9\n",
    "Flesch Reading Ease Score: 45.8\n",
    "Reading Level: College ( Difficult to read )\n",
    "\n",
    "Flesh-Kincaid Grade Level: 8.4\n",
    "Flesch Reading Ease Score: 63.7\n",
    "Reading Level: 8th & 9th grade ( Plain English )\n",
    "'''"
   ]
  },
  {
   "cell_type": "code",
   "execution_count": null,
   "id": "3bd12651-be50-4cb5-86e9-3301989c811e",
   "metadata": {},
   "outputs": [],
   "source": [
    "Output 5\n",
    "\n",
    "'''\n",
    "Flesh-Kincaid Grade Level: 11.1\n",
    "Flesch Reading Ease Score: 40.2\n",
    "Reading Level: College ( Difficult to read )\n",
    "\n",
    "Flesh-Kincaid Grade Level: 12.2\n",
    "Flesch Reading Ease Score: 26.7\n",
    "Reading Level: College graduate ( Very difficult to read )\n",
    "'''"
   ]
  }
 ],
 "metadata": {
  "kernelspec": {
   "display_name": "Python 3 (ipykernel)",
   "language": "python",
   "name": "python3"
  },
  "language_info": {
   "codemirror_mode": {
    "name": "ipython",
    "version": 3
   },
   "file_extension": ".py",
   "mimetype": "text/x-python",
   "name": "python",
   "nbconvert_exporter": "python",
   "pygments_lexer": "ipython3",
   "version": "3.11.7"
  }
 },
 "nbformat": 4,
 "nbformat_minor": 5
}
