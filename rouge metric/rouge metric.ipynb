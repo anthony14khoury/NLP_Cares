{
 "cells": [
  {
   "cell_type": "code",
   "execution_count": 5,
   "id": "88f1ae6c-dd42-4987-9e77-0aab7132fee7",
   "metadata": {},
   "outputs": [],
   "source": [
    "from rouge_score import rouge_scorer\n",
    "\n",
    "scorer = rouge_scorer.RougeScorer(['rouge1', 'rouge2', 'rougeL'], use_stemmer=True)"
   ]
  },
  {
   "cell_type": "code",
   "execution_count": 7,
   "id": "17bbe8fc-581e-4be3-8a0f-9dbe90ed91b9",
   "metadata": {},
   "outputs": [
    {
     "name": "stdout",
     "output_type": "stream",
     "text": [
      "rouge1: Score(precision=1.0, recall=0.13353115727002968, fmeasure=0.2356020942408377)\n",
      "rouge2: Score(precision=0.9545454545454546, recall=0.125, fmeasure=0.22105263157894736)\n",
      "rougeL: Score(precision=1.0, recall=0.13353115727002968, fmeasure=0.2356020942408377)\n"
     ]
    }
   ],
   "source": [
    "ehr_1 = \"EMS found patient to be hypotensive. FINAL REPORT HISTORY: Suddenly unresponsive with slow improvement. AMS resolved now with IVF. Pleural thickening and calcification in the right upper lobe, with patchy (Over) 8:02 PM CTA CHEST W&W/O C&RECONS, NON-CORONARY Clip # Reason: PE? There is baseliune thoracic deformity with the AP diameter of the chest signficantly decreased to a minimum of 4 cm at the level of the left ventricle. MEDICAL CONDITION: Suddenly unresponsive with slow improvement. 8:02 PM CTA CHEST W&W/O C&RECONS, NON-CORONARY Clip # Reason: PE? They called 911 and EMS found patient to be hypotensive with SBP 70s. They called 911 and EMS found patient to be hypotensive with SBP 70s. They called 911 and EMS found patient to be hypotensive with SBP 70s. Sudden onset shortness of breath, with hypotension and altered mental status. CV: TROP 0.03. Clinical correlation is suggested.No previous tracing available for comparison. Sodium noted to be low at 120. Sodium noted to be low at 120. Sodium noted to be low at 120. Again noted is severe deformity of the thorax, with a decrease in the AP chest diameter. GI/GU: TODAY HE REFUSED COLACE. CT Head: IMPRESSION: Limited study due to motion. Small crecentic lucency at the right apex, suggestive of a small pneumothorax. Small crecentic lucency at the right apex, suggestive of a small pneumothorax. Electrolyte & fluid disorder, other Assessment: THIS AM NA 131. HR 75-80S SR NO ECTOPY NOTED. PORTABLE SUPINE CHEST, ONE VIEW: Patient has marked scoliosis of the thoracic spine. No contraindications for IV contrast WET READ: JXKc MON 10:02 PM Limited due to motion and positioning. - check Troponin, CK, CKMB - f/u Urine lytes - NS IVF at 75cc/hr - encourage PO intake - AM lytes - do not replete Serum Sodium > 0.5/hr # Hyponatremia: patient with chronic hyponatremia, unknown baseline. This is a 65 yom with hx of Duchenne Muscular Dystrophy, Chronic Hyponatremia and GERD who presents from home with AMS and hypotension.\"\n",
    "output_1 = \"EMS found patient to be hypotensive. Pleural thickening and calcification in the right upper lobe, with patchy (Over) There is baseliune thoracic deformity with the AP diameter of the chest signficantly decreased to a minimum of 4 cm at the level of the left ventricle.\"\n",
    "scores = scorer.score(ehr_1, output_1)\n",
    "for key in scores:\n",
    "    print(f'{key}: {scores[key]}')"
   ]
  },
  {
   "cell_type": "code",
   "execution_count": 8,
   "id": "f4c03137-de77-4e8c-8b4a-1b3cb2873eb8",
   "metadata": {},
   "outputs": [
    {
     "name": "stdout",
     "output_type": "stream",
     "text": [
      "rouge1: Score(precision=0.9090909090909091, recall=0.09803921568627451, fmeasure=0.17699115044247787)\n",
      "rouge2: Score(precision=0.5581395348837209, recall=0.05896805896805897, fmeasure=0.10666666666666666)\n",
      "rougeL: Score(precision=0.5909090909090909, recall=0.06372549019607843, fmeasure=0.11504424778761062)\n"
     ]
    }
   ],
   "source": [
    "ehr_2 = \"There is persistent minimal right bibasilar atelectasis. COMPARISONS: Supine AP portable chest x-ray of . MIN CT DNG. Compared to the previous tracing of the anteriorT wave inversions are now upright and elevated suggestive of anterior ischemiainfarction. Atrial fibrillationRBBB with left anterior fascicular blockNonspecific ST-T wave changesSince pervious tracing, no significant change There is an ETT with tip at the thoracic inlet. CSRU ADM/UPDATENEURO: ANESTHETICS REVERSED.PT REMAINS SLEEPY.FOLLOWS COMMANDS. RT PUPIL IRREG, FIXED(PMH OF CATARACT). TITRATE NEO. Clinical correlation issuggested. Marked A-V conduction delay. IMPRESSION: 1) Tubes and lines as described above. CI GOOD AS NOTED , BRIEFLY DRIFT TO 1.9. AMIO GTT CONTINUES. TOL CPAP.PLAN: WEAN TO EXTUBATION AS ABLE. ON NEOSYNEPHRINE FOR BP. INITIALLY PAO2 165 ON 100%->PEEP TO 10 AND SLOW FIO2 WEAN. 2) Left effusion and left lower lobe atelectasis. LUNGS CLEAR BILAT. NSR W/ 1ST DEGREE AVB. FINDINGS: The cardiac and mediastinal contours are stable. CHEST, PORTABLE AP: Comparison made to prior study of . Intraventricular conduction delay. Multiple tubes and lines are unchanged in position. Normal sinus rhythm. SVO2 69-80. There is a left pleural effusion and left lower lobe opacity which likely represents atelectasis. LEFT 2MM AND REACTIVE. ST segment elevation inleads V1-V5 - cannot exclude anterior ischemia. OGT W./ MIN DNG.ASSESS: REQUIRING NEO FOR BP. TEAM AWARE, NO NEW ORDERS AT THAT TIME.RESP: REMAINS INTUBATED THOUGH ON CPAP+ AT PRESENT. FINDINGS: There has been interval removal of the endotracheal tube, nasogastric tube, and right internal jugular vein cordis with no evidence of pneumothorax. Otherwise, the lungs appear clear with no consolidations. TECHNIQUE: PA and lateral chest x-ray. The heart if moderately enlarged. Pulmonary vasculature is normal. REQUIRING DEFIB COMING OFF PUMP. There are sternal wires and a prosthetic aortic valve. There remain bilateral pleural effusions, greater on the left than the right, with adjacent bibasilar lung opacities, particularly on the right, consistent with post-surgical atelectasis. The right lung is clear. O2 SAST 96-100%.GI/GU: UOP QS, ABD SOFT. MONITOR VS,HEMOS,LABS There has been slight improvement in aeration at the left base. Assessment to rule out an effusion or infiltrate. There is a right internal jugular cordis line with tip in the main pulmonary artery. MIN VOLUMES 10L, DUE FOR ABG. PRESENTLY A-PACED AT 90. An NG tube is present which passes into the stomach. T wave inversions also noted inleads I and aVL.\"\n",
    "output_2 = \"The patient is on a ventilator and is in a stable condition. The heart is moderately enlarged. There are sternal wires and a prosthetic aortic valve. There is an ETT with tip at the thoracic inlet. The patient has persistent minimal right bibasilar atelectasis.\"\n",
    "scores = scorer.score(ehr_2, output_2)\n",
    "for key in scores:\n",
    "    print(f'{key}: {scores[key]}')"
   ]
  },
  {
   "cell_type": "code",
   "execution_count": 9,
   "id": "ebd8fd4e-a6e4-41e6-9989-6690f601bb58",
   "metadata": {},
   "outputs": [
    {
     "name": "stdout",
     "output_type": "stream",
     "text": [
      "rouge1: Score(precision=1.0, recall=0.12666666666666668, fmeasure=0.22485207100591717)\n",
      "rouge2: Score(precision=0.9464285714285714, recall=0.11804008908685969, fmeasure=0.20990099009900992)\n",
      "rougeL: Score(precision=1.0, recall=0.12666666666666668, fmeasure=0.22485207100591717)\n"
     ]
    }
   ],
   "source": [
    "ehr_3 = \"The abdominal vasculature is normally opacified. The patient was prepped and draped in the usual sterile fashion after ultrasound examination revealed a large pocket of fluid with a safe approach in the right lower quadrant. A tiny low attenuation focus is present adjacent to the spleen, which may represent a surgical clip or calcified density. ABDOMEN CT WITH IV CONTRAST: Bilateral dependent atelectasis is present. CONDITION UPDATE HCT STABLE, NO STOOL OR BLOODY NGT OUTPUT. BELLY SOFT, OOZING SEROUS FROM INCISION, HCT STABLE.R: TRANSFER TO FLOOR WHEN BED AVAILABLE. Scattered aortic calcifications are present. Non-ionic contrast was used secondary to patient's recent transplant. PELVIC CT WITH IV CONTRAST: A soft tissue density is present in the left lower quadrant, consistent with a pancreas transplant. TECHNIQUE: Helical axial images of the abdomen and pelvis were obtained with oral and intravenous contrast. Sinus rhythmNormal ECG Multiple low attenuation lesions are present in both kidneys. Several pockets of air are present in the subcutaneous tissues immediately below the staple line in the right mid abdomen. A mdoerate amount of ascites is present in the abdomen which tracks down into the pelvis. The stomach, small bowel, and large bowel appear normal, without dilatation or wall thickening. 3) Unremarkable appearance of the transplanted kidney and pancreas. There is a small calculus within the left kidney. BLOOD SUGARS 150-200--HO AWARE, NO TREATMENT. HR ~ 100-110 SINUS TACH & BP STABLE, SEE FLOWSHEET AND TRANSFER NOTE FOR ALL VS & PHYS ASSESSMENT. HR & BP STABLE, SEE FLOWSHEET FOR VS. REPEAT LABS SENT, HCT 30, NO MORE BLOODY STOOLS. PHOS LOW THIS AM, WILL REPLACE. NO RESP DISTRESS, SP02 97% RA. The skin overlying the approach was infiltrated with 1% Lidocaine and a 19 gauge catheter was advanced into the fluid collection. FINAL REPORT INDICATION: 48 y/o female status post kidney and pancreas transplant with abdominal fluid collection. HCT RECHECKED AT 2300 AND 0300- PRESENTLY 29.GU: CLEAR YELLOW IN GOOD AMTS VIA FOLEYENDO: BS 210 AT 1800- HO NOTIFIED, STAT USN OF PANCREAS OBTAINED, INSULIN GTT STARTED FOR FEW HRS (SEE CAREVUE FOR SPECIFICS) BUT THEN D/C'D- GOAL OF BS <200A; HEMODYNAMICS MONITORED, SERIAL HCT OBTAINED, PT ENCOURAGED TO USE PCA PUMPR: STABLE AT PRESENT, CONTINUE TO OBSERVE CLOSELY FOR FURTHER SIGNS OF GI BLEED The transplanted kidney is present in the left lower quadrant. A transplant pancreas is identified within the right lower quadrant of the abdomen with arterial waveforms documented within this transplanted pancreas. A vascular catheter has been placed in the right internal jugular vein, coursing into the lower superior vena cava. REASON FOR THIS EXAMINATION: Therapeutic tap of ascites - please send fluid for amylase, lipase and creatinin.\"\n",
    "output_3 = \"The patient was prepped and draped in the usual sterile fashion after ultrasound examination revealed a large pocket of fluid with a safe approach in the right lower quadrant. Scattered aortic calcifications are present. The stomach, small bowel, and large bowel appear normal, without dilatation or wall thickening. There is a small calculus within the left kidney.\"\n",
    "scores = scorer.score(ehr_3, output_3)\n",
    "for key in scores:\n",
    "    print(f'{key}: {scores[key]}')"
   ]
  },
  {
   "cell_type": "code",
   "execution_count": 10,
   "id": "ffcd68b4-292f-4517-bb46-40173b6974c6",
   "metadata": {},
   "outputs": [
    {
     "name": "stdout",
     "output_type": "stream",
     "text": [
      "rouge1: Score(precision=0.7142857142857143, recall=0.0691699604743083, fmeasure=0.12612612612612614)\n",
      "rouge2: Score(precision=0.2916666666666667, recall=0.027722772277227723, fmeasure=0.05063291139240506)\n",
      "rougeL: Score(precision=0.5306122448979592, recall=0.05138339920948617, fmeasure=0.09369369369369368)\n"
     ]
    }
   ],
   "source": [
    "ehr_4 = \"A right effusion is present, minimal blunting of the left costophrenic angle is present. LS tight and diminished throughout- to receive nebs. 3) Right lower lobe atelectasis/consolidation with associated small effusion. Note is made of adjacent over-distended tracheostomy tube cuff. There is a hazy bilateral vasculature in an alveolar pattern that is similar to that seen on the film taken earlier in the day. A tracheostomy tube remains in place with over-distention of the cuff. Occasional atrial premature beats. Restarted on lopressor but captopril held due to SBP <100. The lungs demonstrate extensive bilateral areas of patchy and ground- glass opacities most pronounced centrally with relative sparing of the apices. L anterior CT to H2O seal with serosang. Smear of BM on arrival. MICU NPN:RESP: #8 Portex trach intact with small amts bloody drainage around stoma. The latter can be a complication of a chronically over-distended tube cuff. RESPIRATORY CAREPT RECEIVED FROM E.D.WITH 8.0 PORTEX TRACH. There is a bilateral pattern of alveolar opacities most prominent in the central portions of the lungs which is slightly progressed in the interval. IMPRESSION: Interval worsening of CHF and possible new right lower lobe infiltrate. Smear of BM x2. Pneumoboots on. Denies pain although grimacing with palpatation around chest tube site. Received 40 IV lasix x1 with minimal response. The left chest tube has been removed. Ivs intact and patent.RESP: #8 Portex trach intact with inner cannula cleaned by RT. A small bore left chest tube is present. STARTED ON COMBIVENT INHALER, ALSO FLOVENT. OOB to commode with these episodes but only smear of BM. There is evidence of aortic valve replacement. Peg intact and clamped but to start TF- awaiting TF pump. Bilateral pleural effusions are noted, right greater than left. HISTORY: Chest tube removal, question pneumothorax. A dual-lead pacemaker is again visualized and is unchanged. Sx'd for small amts tan, bld-tinged secretions. Respir. slightly firm and distended with positive bowel sounds. A tracheostomy tube is present, unchanged in appearance. There are multiple prominent nonpathologically enlarged prevascular, paratracheal and anterior mediastinal lymph nodes. The cardiac silhouette remains enlarged. Sx'd for bloody secretions in small amts.GI/GU: Abd. It is difficult to exclude the possibility of tracheoesophageal fistula. Left sided pleural based catheter. EKG done on admission. Minimal amts of secretions around stoma site. The tracheostomy and sternal wires are unchanged. There is kyphosis of the thoracic spine. IMPRESSION: Some improvement in degree of failure. Demineralization and degenerative changes are noted in the visualized axial skeleton. Palpable pedal and radial pulses. softly distended with positive bowel sounds. The visualized portions of the upper abdomen are unremarkable. HR 80s-90s Vpaced rhythm. The bronchi are patent to the segmental level bilaterally. 2:43 PM CHEST (PORTABLE AP) Clip # Reason: s/p chest tube removal, evaluate for pneumoTx recurrence. FINDINGS: There has been interval worsening of CHF pattern in both lungs with increased alveolar and interstitial markings. Compared to theprevious tracing of the sinus rate is slower.\"\n",
    "output_4 = \"The electronic health record for a patient can be summed up in a few simple terms. For example, the patient has a tracheostomy, chest tube removal, and may have a new right lower lobe infiltrate. The patient also has a dual-lead pacemaker and a small chest tube removed.\"\n",
    "scores = scorer.score(ehr_4, output_4)\n",
    "for key in scores:\n",
    "    print(f'{key}: {scores[key]}')"
   ]
  },
  {
   "cell_type": "code",
   "execution_count": 11,
   "id": "74e26108-07fe-4f87-a9b5-56d34e2dcc0c",
   "metadata": {},
   "outputs": [
    {
     "name": "stdout",
     "output_type": "stream",
     "text": [
      "rouge1: Score(precision=1.0, recall=0.07177033492822966, fmeasure=0.13392857142857142)\n",
      "rouge2: Score(precision=0.9318181818181818, recall=0.06549520766773163, fmeasure=0.12238805970149255)\n",
      "rougeL: Score(precision=1.0, recall=0.07177033492822966, fmeasure=0.13392857142857142)\n"
     ]
    }
   ],
   "source": [
    "ehr_5 = \"Unchanged mild extra- and intra-hepatic biliary ductal dilatation. A focal area of small bowel dilatation is concerning for a herniated closed loop obstruction (5:188) 2. Status post aortobifemoral bypass, which appears patent, with flow demonstrated in the superficial femoral and profundus branches bilaterally. Extraluminal air seen in the right lower quadrant corresponding to the findings on CT. 3. Extraluminal air seen in the right lower quadrant corresponding to the findings on CT. 3. Extraluminal air seen in the right lower quadrant corresponding to the findings on CT. 3. FINDINGS: Supine and upright abdominal radiographs demonstrate an NG tube with its tip likely projecting within the body of the stomach. IMPRESSION: Right internal jugular catheter projects over upper SVC. CT OF THE PELVIS WITH IV CONTRAST: The rectum, sigmoid colon, and intrapelvic loops of small and large bowel are normal. Patency is demonstrated from the aortobifemoral graft through the native superficial femoral and profundus vessels bilaterally. Area of of free air and adjacent fluid within the right lower quadrant, separate from the primary abscess. A complex air and fluid-filled collection is seen within the anterior abdomen, measuring 10.1 x 2.3 cm (5C:45), demonstrating rim enhancement, appearing to be separate from the bowel loops and worrisome for an abscess. Focally dilated small bowel loop is concerning for internal hernia and closed loop obstruction. A right internal jugular catheter projects over the upper SVC. Air fluid collection seen superior to the dilated loop of small bowel, correlating with fluid collection seen on CT, worrisome for abscess. Air fluid collection seen superior to the dilated loop of small bowel, correlating with fluid collection seen on CT, worrisome for abscess. Air fluid collection seen superior to the dilated loop of small bowel, correlating with fluid collection seen on CT, worrisome for abscess. FINAL REPORT CLINICAL HISTORY: Right internal jugular placement. Mild intrahepatic and extrahepatic biliary ductal dilatation is redemonstrated and unchanged since the examination. Dilated central loop of small bowel correlated with findings on CT concerning for partial bowel obstruction. Dilated central loop of small bowel correlated with findings on CT concerning for partial bowel obstruction. Dilated central loop of small bowel correlated with findings on CT concerning for partial bowel obstruction. Foci of free air within the RLQ separate from the primary abscess (5:249) 3. The femoral-to-femoral bypass graft is visualized and appears occluded. COMPARISON: CT abdomen and pelvis, . This is adjacent to the right common femoral artery and vein, which otherwise demonstrates normal color flow. The appendix is surgically abscent. The bypassed native aorta is occluded but does demonstrates distal reconstitution of flow retrograde from the iliac branches. Superior to the dilated loop of small bowel is the collection of air and fluid, worrisome for abscess on CT. At least three smaller seromas lie beneath the left groin incision (5:314), with one collection surrounding the femoral anastomosis (5:336). Occluded femoral-to-femoral bypass graft. Adjacent (Over) 6:04 PM CT ABDOMEN W/O CONTRAST; OUTSIDE FILMS READ ONLY Clip # Reason: eval for free fluid, obstruction FINAL REPORT (Cont) superiorly and posteriorly within the mid abdomen is a single loop of dilated small bowel measuring up to 5.9 cm in diameter (5:182). The remaining loops of intra-abdominal small and large bowel are not dilated. Multiple injection granulomas overlie the right buttock. Normal arterial and venous waveforms are seen within the right common femoral artery and vein. TECHNIQUE: Axial CT of the abdomen and pelvis were acquired with IV contrast, but no oral contrast. Again seen is a large single loop of dilated small bowel, which again is concerning for partial bowel obstruction. CT OF THE ABDOMEN WITH IV CONTRAST: Included views of the lung bases are clear.\"\n",
    "output_5 = \"A focal area of small bowel dilatation is concerning for a herniated closed loop obstruction. Extraluminal air seen in the right lower quadrant corresponding to the findings on CT. The femoral-to-femoral bypass graft is visualized and appears occluded. The appendix is surgically abscent.\"\n",
    "scores = scorer.score(ehr_5, output_5)\n",
    "for key in scores:\n",
    "    print(f'{key}: {scores[key]}')"
   ]
  }
 ],
 "metadata": {
  "kernelspec": {
   "display_name": "Python 3 (ipykernel)",
   "language": "python",
   "name": "python3"
  },
  "language_info": {
   "codemirror_mode": {
    "name": "ipython",
    "version": 3
   },
   "file_extension": ".py",
   "mimetype": "text/x-python",
   "name": "python",
   "nbconvert_exporter": "python",
   "pygments_lexer": "ipython3",
   "version": "3.11.7"
  }
 },
 "nbformat": 4,
 "nbformat_minor": 5
}
