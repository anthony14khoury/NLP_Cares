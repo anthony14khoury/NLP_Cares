{
 "cells": [
  {
   "cell_type": "code",
   "execution_count": null,
   "id": "571b3bc8-996c-4233-b3d8-a619a035b793",
   "metadata": {
    "tags": []
   },
   "outputs": [],
   "source": [
    "from datasets import load_dataset, concatenate_datasets\n",
    "from datasets.arrow_dataset import Dataset"
   ]
  },
  {
   "cell_type": "code",
   "execution_count": null,
   "id": "1e9ab487-6c4d-4c68-8080-c1af8ec278c2",
   "metadata": {
    "tags": []
   },
   "outputs": [],
   "source": [
    "wiki_medical_terms_dataset = load_dataset(\"gamino/wiki_medical_terms\", split='train')"
   ]
  },
  {
   "cell_type": "code",
   "execution_count": null,
   "id": "5fd35031-8b42-4757-8932-82536a467fcc",
   "metadata": {
    "tags": []
   },
   "outputs": [],
   "source": [
    "wiki_features = wiki_medical_terms_dataset['page_text']"
   ]
  },
  {
   "cell_type": "code",
   "execution_count": null,
   "id": "174a9033-3db8-468f-b1c1-f05e8a9d4eda",
   "metadata": {
    "tags": []
   },
   "outputs": [],
   "source": [
    "wiki_dataset = Dataset(wiki_features)"
   ]
  },
  {
   "cell_type": "code",
   "execution_count": null,
   "id": "d72eb8d7-149f-48e0-8888-00ce68cbb0a0",
   "metadata": {
    "tags": []
   },
   "outputs": [],
   "source": [
    "type(wiki_medical_terms_dataset)"
   ]
  },
  {
   "cell_type": "code",
   "execution_count": null,
   "id": "0c5b62d8-cc40-418b-90e2-4977b74fd284",
   "metadata": {},
   "outputs": [],
   "source": []
  }
 ],
 "metadata": {
  "kernelspec": {
   "display_name": "PyTorch-2.2.0",
   "language": "python",
   "name": "pytorch-2.2.0"
  },
  "language_info": {
   "codemirror_mode": {
    "name": "ipython",
    "version": 3
   },
   "file_extension": ".py",
   "mimetype": "text/x-python",
   "name": "python",
   "nbconvert_exporter": "python",
   "pygments_lexer": "ipython3",
   "version": "3.10.13"
  }
 },
 "nbformat": 4,
 "nbformat_minor": 5
}
