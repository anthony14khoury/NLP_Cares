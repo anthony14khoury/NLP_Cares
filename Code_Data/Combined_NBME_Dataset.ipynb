{
 "cells": [
  {
   "cell_type": "code",
   "execution_count": 2,
   "metadata": {
    "_cell_guid": "b1076dfc-b9ad-4769-8c92-a6c4dae69d19",
    "_uuid": "8f2839f25d086af736a60e9eeb907d3b93b6e0e5",
    "execution": {
     "iopub.execute_input": "2024-03-28T17:04:35.756308Z",
     "iopub.status.busy": "2024-03-28T17:04:35.755887Z",
     "iopub.status.idle": "2024-03-28T17:04:36.177607Z",
     "shell.execute_reply": "2024-03-28T17:04:36.175751Z",
     "shell.execute_reply.started": "2024-03-28T17:04:35.756279Z"
    }
   },
   "outputs": [
    {
     "name": "stdout",
     "output_type": "stream",
     "text": [
      "/kaggle/input/mixtral/pytorch/8x7b-v0.1/1/RELEASE\n",
      "/kaggle/input/mixtral/pytorch/8x7b-v0.1/1/consolidated.00.pth\n",
      "/kaggle/input/mixtral/pytorch/8x7b-v0.1/1/params.json\n",
      "/kaggle/input/mixtral/pytorch/8x7b-v0.1/1/tokenizer.model\n",
      "/kaggle/input/nbme-score-clinical-patient-notes/sample_submission.csv\n",
      "/kaggle/input/nbme-score-clinical-patient-notes/patient_notes.csv\n",
      "/kaggle/input/nbme-score-clinical-patient-notes/features.csv\n",
      "/kaggle/input/nbme-score-clinical-patient-notes/train.csv\n",
      "/kaggle/input/nbme-score-clinical-patient-notes/test.csv\n",
      "/kaggle/input/mistral/pytorch/7b-instruct-v0.1-hf/1/config.json\n",
      "/kaggle/input/mistral/pytorch/7b-instruct-v0.1-hf/1/pytorch_model-00002-of-00002.bin\n",
      "/kaggle/input/mistral/pytorch/7b-instruct-v0.1-hf/1/tokenizer.json\n",
      "/kaggle/input/mistral/pytorch/7b-instruct-v0.1-hf/1/tokenizer_config.json\n",
      "/kaggle/input/mistral/pytorch/7b-instruct-v0.1-hf/1/pytorch_model.bin.index.json\n",
      "/kaggle/input/mistral/pytorch/7b-instruct-v0.1-hf/1/pytorch_model-00001-of-00002.bin\n",
      "/kaggle/input/mistral/pytorch/7b-instruct-v0.1-hf/1/special_tokens_map.json\n",
      "/kaggle/input/mistral/pytorch/7b-instruct-v0.1-hf/1/.gitattributes\n",
      "/kaggle/input/mistral/pytorch/7b-instruct-v0.1-hf/1/tokenizer.model\n",
      "/kaggle/input/mistral/pytorch/7b-instruct-v0.1-hf/1/generation_config.json\n"
     ]
    }
   ],
   "source": [
    "# This Python 3 environment comes with many helpful analytics libraries installed\n",
    "# It is defined by the kaggle/python Docker image: https://github.com/kaggle/docker-python\n",
    "# For example, here's several helpful packages to load\n",
    "\n",
    "import numpy as np # linear algebra\n",
    "import pandas as pd # data processing, CSV file I/O (e.g. pd.read_csv)\n",
    "\n",
    "# Input data files are available in the read-only \"../input/\" directory\n",
    "# For example, running this (by clicking run or pressing Shift+Enter) will list all files under the input directory\n",
    "\n",
    "import os\n",
    "for dirname, _, filenames in os.walk('/kaggle/input'):\n",
    "    for filename in filenames:\n",
    "        print(os.path.join(dirname, filename))\n",
    "\n",
    "# You can write up to 20GB to the current directory (/kaggle/working/) that gets preserved as output when you create a version using \"Save & Run All\" \n",
    "# You can also write temporary files to /kaggle/temp/, but they won't be saved outside of the current session"
   ]
  },
  {
   "cell_type": "code",
   "execution_count": 13,
   "metadata": {
    "execution": {
     "iopub.execute_input": "2024-03-28T17:06:28.284572Z",
     "iopub.status.busy": "2024-03-28T17:06:28.284118Z",
     "iopub.status.idle": "2024-03-28T17:06:28.772356Z",
     "shell.execute_reply": "2024-03-28T17:06:28.771109Z",
     "shell.execute_reply.started": "2024-03-28T17:06:28.284540Z"
    }
   },
   "outputs": [],
   "source": [
    "import pandas as pd\n",
    "patient_notes = pd.read_csv(\"/kaggle/input/nbme-score-clinical-patient-notes/patient_notes.csv\")\n",
    "features = pd.read_csv(\"/kaggle/input/nbme-score-clinical-patient-notes/features.csv\")\n",
    "train = pd.read_csv(\"/kaggle/input/nbme-score-clinical-patient-notes/train.csv\")\n"
   ]
  },
  {
   "cell_type": "code",
   "execution_count": 14,
   "metadata": {
    "execution": {
     "iopub.execute_input": "2024-03-28T17:06:30.071260Z",
     "iopub.status.busy": "2024-03-28T17:06:30.070805Z",
     "iopub.status.idle": "2024-03-28T17:06:30.097053Z",
     "shell.execute_reply": "2024-03-28T17:06:30.095764Z",
     "shell.execute_reply.started": "2024-03-28T17:06:30.071227Z"
    }
   },
   "outputs": [
    {
     "data": {
      "text/html": [
       "<div>\n",
       "<style scoped>\n",
       "    .dataframe tbody tr th:only-of-type {\n",
       "        vertical-align: middle;\n",
       "    }\n",
       "\n",
       "    .dataframe tbody tr th {\n",
       "        vertical-align: top;\n",
       "    }\n",
       "\n",
       "    .dataframe thead th {\n",
       "        text-align: right;\n",
       "    }\n",
       "</style>\n",
       "<table border=\"1\" class=\"dataframe\">\n",
       "  <thead>\n",
       "    <tr style=\"text-align: right;\">\n",
       "      <th></th>\n",
       "      <th>pn_num</th>\n",
       "      <th>case_num</th>\n",
       "      <th>pn_history</th>\n",
       "    </tr>\n",
       "  </thead>\n",
       "  <tbody>\n",
       "    <tr>\n",
       "      <th>0</th>\n",
       "      <td>0</td>\n",
       "      <td>0</td>\n",
       "      <td>17-year-old male, has come to the student heal...</td>\n",
       "    </tr>\n",
       "    <tr>\n",
       "      <th>1</th>\n",
       "      <td>1</td>\n",
       "      <td>0</td>\n",
       "      <td>17 yo male with recurrent palpitations for the...</td>\n",
       "    </tr>\n",
       "    <tr>\n",
       "      <th>2</th>\n",
       "      <td>2</td>\n",
       "      <td>0</td>\n",
       "      <td>Dillon Cleveland is a 17 y.o. male patient wit...</td>\n",
       "    </tr>\n",
       "    <tr>\n",
       "      <th>3</th>\n",
       "      <td>3</td>\n",
       "      <td>0</td>\n",
       "      <td>a 17 yo m c/o palpitation started 3 mos ago; \\...</td>\n",
       "    </tr>\n",
       "    <tr>\n",
       "      <th>4</th>\n",
       "      <td>4</td>\n",
       "      <td>0</td>\n",
       "      <td>17yo male with no pmh here for evaluation of p...</td>\n",
       "    </tr>\n",
       "  </tbody>\n",
       "</table>\n",
       "</div>"
      ],
      "text/plain": [
       "   pn_num  case_num                                         pn_history\n",
       "0       0         0  17-year-old male, has come to the student heal...\n",
       "1       1         0  17 yo male with recurrent palpitations for the...\n",
       "2       2         0  Dillon Cleveland is a 17 y.o. male patient wit...\n",
       "3       3         0  a 17 yo m c/o palpitation started 3 mos ago; \\...\n",
       "4       4         0  17yo male with no pmh here for evaluation of p..."
      ]
     },
     "execution_count": 14,
     "metadata": {},
     "output_type": "execute_result"
    }
   ],
   "source": [
    "patient_notes.head() \n"
   ]
  },
  {
   "cell_type": "code",
   "execution_count": 17,
   "metadata": {
    "execution": {
     "iopub.execute_input": "2024-03-28T17:08:20.943190Z",
     "iopub.status.busy": "2024-03-28T17:08:20.942328Z",
     "iopub.status.idle": "2024-03-28T17:08:20.975247Z",
     "shell.execute_reply": "2024-03-28T17:08:20.974047Z",
     "shell.execute_reply.started": "2024-03-28T17:08:20.943145Z"
    }
   },
   "outputs": [
    {
     "name": "stdout",
     "output_type": "stream",
     "text": [
      "<class 'pandas.core.frame.DataFrame'>\n",
      "RangeIndex: 42146 entries, 0 to 42145\n",
      "Data columns (total 3 columns):\n",
      " #   Column      Non-Null Count  Dtype \n",
      "---  ------      --------------  ----- \n",
      " 0   pn_num      42146 non-null  int64 \n",
      " 1   case_num    42146 non-null  int64 \n",
      " 2   pn_history  42146 non-null  object\n",
      "dtypes: int64(2), object(1)\n",
      "memory usage: 987.9+ KB\n"
     ]
    }
   ],
   "source": [
    "patient_notes.info()"
   ]
  },
  {
   "cell_type": "code",
   "execution_count": 15,
   "metadata": {
    "execution": {
     "iopub.execute_input": "2024-03-28T17:08:12.426128Z",
     "iopub.status.busy": "2024-03-28T17:08:12.424997Z",
     "iopub.status.idle": "2024-03-28T17:08:12.436526Z",
     "shell.execute_reply": "2024-03-28T17:08:12.435323Z",
     "shell.execute_reply.started": "2024-03-28T17:08:12.426089Z"
    }
   },
   "outputs": [
    {
     "data": {
      "text/html": [
       "<div>\n",
       "<style scoped>\n",
       "    .dataframe tbody tr th:only-of-type {\n",
       "        vertical-align: middle;\n",
       "    }\n",
       "\n",
       "    .dataframe tbody tr th {\n",
       "        vertical-align: top;\n",
       "    }\n",
       "\n",
       "    .dataframe thead th {\n",
       "        text-align: right;\n",
       "    }\n",
       "</style>\n",
       "<table border=\"1\" class=\"dataframe\">\n",
       "  <thead>\n",
       "    <tr style=\"text-align: right;\">\n",
       "      <th></th>\n",
       "      <th>feature_num</th>\n",
       "      <th>case_num</th>\n",
       "      <th>feature_text</th>\n",
       "    </tr>\n",
       "  </thead>\n",
       "  <tbody>\n",
       "    <tr>\n",
       "      <th>0</th>\n",
       "      <td>0</td>\n",
       "      <td>0</td>\n",
       "      <td>Family-history-of-MI-OR-Family-history-of-myoc...</td>\n",
       "    </tr>\n",
       "    <tr>\n",
       "      <th>1</th>\n",
       "      <td>1</td>\n",
       "      <td>0</td>\n",
       "      <td>Family-history-of-thyroid-disorder</td>\n",
       "    </tr>\n",
       "    <tr>\n",
       "      <th>2</th>\n",
       "      <td>2</td>\n",
       "      <td>0</td>\n",
       "      <td>Chest-pressure</td>\n",
       "    </tr>\n",
       "    <tr>\n",
       "      <th>3</th>\n",
       "      <td>3</td>\n",
       "      <td>0</td>\n",
       "      <td>Intermittent-symptoms</td>\n",
       "    </tr>\n",
       "    <tr>\n",
       "      <th>4</th>\n",
       "      <td>4</td>\n",
       "      <td>0</td>\n",
       "      <td>Lightheaded</td>\n",
       "    </tr>\n",
       "  </tbody>\n",
       "</table>\n",
       "</div>"
      ],
      "text/plain": [
       "   feature_num  case_num                                       feature_text\n",
       "0            0         0  Family-history-of-MI-OR-Family-history-of-myoc...\n",
       "1            1         0                 Family-history-of-thyroid-disorder\n",
       "2            2         0                                     Chest-pressure\n",
       "3            3         0                              Intermittent-symptoms\n",
       "4            4         0                                        Lightheaded"
      ]
     },
     "execution_count": 15,
     "metadata": {},
     "output_type": "execute_result"
    }
   ],
   "source": [
    "features.head()"
   ]
  },
  {
   "cell_type": "code",
   "execution_count": 16,
   "metadata": {
    "execution": {
     "iopub.execute_input": "2024-03-28T17:08:20.523524Z",
     "iopub.status.busy": "2024-03-28T17:08:20.522858Z",
     "iopub.status.idle": "2024-03-28T17:08:20.559649Z",
     "shell.execute_reply": "2024-03-28T17:08:20.556703Z",
     "shell.execute_reply.started": "2024-03-28T17:08:20.523492Z"
    }
   },
   "outputs": [
    {
     "name": "stdout",
     "output_type": "stream",
     "text": [
      "<class 'pandas.core.frame.DataFrame'>\n",
      "RangeIndex: 143 entries, 0 to 142\n",
      "Data columns (total 3 columns):\n",
      " #   Column        Non-Null Count  Dtype \n",
      "---  ------        --------------  ----- \n",
      " 0   feature_num   143 non-null    int64 \n",
      " 1   case_num      143 non-null    int64 \n",
      " 2   feature_text  143 non-null    object\n",
      "dtypes: int64(2), object(1)\n",
      "memory usage: 3.5+ KB\n"
     ]
    }
   ],
   "source": [
    "features.info()"
   ]
  },
  {
   "cell_type": "code",
   "execution_count": 18,
   "metadata": {
    "execution": {
     "iopub.execute_input": "2024-03-28T17:08:46.684673Z",
     "iopub.status.busy": "2024-03-28T17:08:46.684255Z",
     "iopub.status.idle": "2024-03-28T17:08:46.704570Z",
     "shell.execute_reply": "2024-03-28T17:08:46.703300Z",
     "shell.execute_reply.started": "2024-03-28T17:08:46.684641Z"
    }
   },
   "outputs": [],
   "source": [
    "df_annotations = pd.merge(train, features, on=['case_num', 'feature_num'], how='left')"
   ]
  },
  {
   "cell_type": "code",
   "execution_count": 21,
   "metadata": {
    "execution": {
     "iopub.execute_input": "2024-03-28T17:13:08.779561Z",
     "iopub.status.busy": "2024-03-28T17:13:08.779194Z",
     "iopub.status.idle": "2024-03-28T17:13:08.789046Z",
     "shell.execute_reply": "2024-03-28T17:13:08.787787Z",
     "shell.execute_reply.started": "2024-03-28T17:13:08.779534Z"
    }
   },
   "outputs": [
    {
     "data": {
      "text/plain": [
       "0                 ['696 724']\n",
       "1                 ['668 693']\n",
       "2                 ['203 217']\n",
       "3        ['70 91', '176 183']\n",
       "4                 ['222 258']\n",
       "                 ...         \n",
       "14295                      []\n",
       "14296                      []\n",
       "14297             ['274 282']\n",
       "14298             ['421 437']\n",
       "14299             ['314 330']\n",
       "Name: location, Length: 14300, dtype: object"
      ]
     },
     "execution_count": 21,
     "metadata": {},
     "output_type": "execute_result"
    }
   ],
   "source": [
    "df_annotations[\"location\"]"
   ]
  },
  {
   "cell_type": "code",
   "execution_count": 22,
   "metadata": {
    "execution": {
     "iopub.execute_input": "2024-03-28T17:14:13.613007Z",
     "iopub.status.busy": "2024-03-28T17:14:13.611866Z",
     "iopub.status.idle": "2024-03-28T17:14:13.616749Z",
     "shell.execute_reply": "2024-03-28T17:14:13.616008Z",
     "shell.execute_reply.started": "2024-03-28T17:14:13.612962Z"
    }
   },
   "outputs": [],
   "source": [
    "import ast"
   ]
  },
  {
   "cell_type": "code",
   "execution_count": 23,
   "metadata": {
    "execution": {
     "iopub.execute_input": "2024-03-28T17:14:26.950371Z",
     "iopub.status.busy": "2024-03-28T17:14:26.950007Z",
     "iopub.status.idle": "2024-03-28T17:14:26.956602Z",
     "shell.execute_reply": "2024-03-28T17:14:26.955189Z",
     "shell.execute_reply.started": "2024-03-28T17:14:26.950345Z"
    }
   },
   "outputs": [],
   "source": [
    "def process_location_string(loc_str):\n",
    "    try:\n",
    "        locations = ast.literal_eval(loc_str)  # Try converting to a list\n",
    "\n",
    "        # Convert each span to a tuple of integers\n",
    "        return [(int(start), int(end)) for start, end in locations]  \n",
    "    except (ValueError, SyntaxError):\n",
    "        # Handle cases where the string is not a valid list format\n",
    "        return []  # Or you could raise an error for better debugging \n"
   ]
  },
  {
   "cell_type": "code",
   "execution_count": 24,
   "metadata": {
    "execution": {
     "iopub.execute_input": "2024-03-28T17:14:35.719010Z",
     "iopub.status.busy": "2024-03-28T17:14:35.718580Z",
     "iopub.status.idle": "2024-03-28T17:14:35.877215Z",
     "shell.execute_reply": "2024-03-28T17:14:35.876110Z",
     "shell.execute_reply.started": "2024-03-28T17:14:35.718966Z"
    }
   },
   "outputs": [],
   "source": [
    "df_annotations[\"location\"] = df_annotations[\"location\"].apply(process_location_string)\n"
   ]
  },
  {
   "cell_type": "code",
   "execution_count": 26,
   "metadata": {
    "execution": {
     "iopub.execute_input": "2024-03-28T17:15:29.121420Z",
     "iopub.status.busy": "2024-03-28T17:15:29.120925Z",
     "iopub.status.idle": "2024-03-28T17:15:35.518754Z",
     "shell.execute_reply": "2024-03-28T17:15:35.517380Z",
     "shell.execute_reply.started": "2024-03-28T17:15:29.121379Z"
    }
   },
   "outputs": [],
   "source": [
    "def combine_notes_features(row):\n",
    "    notes = patient_notes[patient_notes['pn_num'] == row['pn_num']]['pn_history'].iloc[0]\n",
    "    annotations = row['annotation'].split('|')  # Split annotations on '|'\n",
    "    locations = row['location']  # Locations is already a list\n",
    "\n",
    "    # Logic to insert annotations into the notes based on their 'location' \n",
    "    for annotation, loc in zip(annotations, locations):  \n",
    "        start, end = loc  # Since loc is now a tuple (start, end)\n",
    "        notes = notes[:start] + f\"[{annotation}]\" + notes[end:]\n",
    "\n",
    "    return notes\n",
    "\n",
    "df_annotations['combined_note'] = df_annotations.apply(combine_notes_features, axis=1)\n"
   ]
  },
  {
   "cell_type": "code",
   "execution_count": 30,
   "metadata": {
    "execution": {
     "iopub.execute_input": "2024-03-28T17:19:13.004409Z",
     "iopub.status.busy": "2024-03-28T17:19:13.004045Z",
     "iopub.status.idle": "2024-03-28T17:19:13.020183Z",
     "shell.execute_reply": "2024-03-28T17:19:13.019058Z",
     "shell.execute_reply.started": "2024-03-28T17:19:13.004383Z"
    }
   },
   "outputs": [
    {
     "data": {
      "text/html": [
       "<div>\n",
       "<style scoped>\n",
       "    .dataframe tbody tr th:only-of-type {\n",
       "        vertical-align: middle;\n",
       "    }\n",
       "\n",
       "    .dataframe tbody tr th {\n",
       "        vertical-align: top;\n",
       "    }\n",
       "\n",
       "    .dataframe thead th {\n",
       "        text-align: right;\n",
       "    }\n",
       "</style>\n",
       "<table border=\"1\" class=\"dataframe\">\n",
       "  <thead>\n",
       "    <tr style=\"text-align: right;\">\n",
       "      <th></th>\n",
       "      <th>id</th>\n",
       "      <th>case_num</th>\n",
       "      <th>pn_num</th>\n",
       "      <th>feature_num</th>\n",
       "      <th>annotation</th>\n",
       "      <th>location</th>\n",
       "      <th>feature_text</th>\n",
       "      <th>combined_note</th>\n",
       "    </tr>\n",
       "  </thead>\n",
       "  <tbody>\n",
       "    <tr>\n",
       "      <th>0</th>\n",
       "      <td>00016_000</td>\n",
       "      <td>0</td>\n",
       "      <td>16</td>\n",
       "      <td>0</td>\n",
       "      <td>['dad with recent heart attcak']</td>\n",
       "      <td>[]</td>\n",
       "      <td>Family-history-of-MI-OR-Family-history-of-myoc...</td>\n",
       "      <td>HPI: 17yo M presents with palpitations. Patien...</td>\n",
       "    </tr>\n",
       "    <tr>\n",
       "      <th>1</th>\n",
       "      <td>00016_001</td>\n",
       "      <td>0</td>\n",
       "      <td>16</td>\n",
       "      <td>1</td>\n",
       "      <td>['mom with \"thyroid disease']</td>\n",
       "      <td>[]</td>\n",
       "      <td>Family-history-of-thyroid-disorder</td>\n",
       "      <td>HPI: 17yo M presents with palpitations. Patien...</td>\n",
       "    </tr>\n",
       "    <tr>\n",
       "      <th>2</th>\n",
       "      <td>00016_002</td>\n",
       "      <td>0</td>\n",
       "      <td>16</td>\n",
       "      <td>2</td>\n",
       "      <td>['chest pressure']</td>\n",
       "      <td>[]</td>\n",
       "      <td>Chest-pressure</td>\n",
       "      <td>HPI: 17yo M presents with palpitations. Patien...</td>\n",
       "    </tr>\n",
       "    <tr>\n",
       "      <th>3</th>\n",
       "      <td>00016_003</td>\n",
       "      <td>0</td>\n",
       "      <td>16</td>\n",
       "      <td>3</td>\n",
       "      <td>['intermittent episodes', 'episode']</td>\n",
       "      <td>[]</td>\n",
       "      <td>Intermittent-symptoms</td>\n",
       "      <td>HPI: 17yo M presents with palpitations. Patien...</td>\n",
       "    </tr>\n",
       "    <tr>\n",
       "      <th>4</th>\n",
       "      <td>00016_004</td>\n",
       "      <td>0</td>\n",
       "      <td>16</td>\n",
       "      <td>4</td>\n",
       "      <td>['felt as if he were going to pass out']</td>\n",
       "      <td>[]</td>\n",
       "      <td>Lightheaded</td>\n",
       "      <td>HPI: 17yo M presents with palpitations. Patien...</td>\n",
       "    </tr>\n",
       "  </tbody>\n",
       "</table>\n",
       "</div>"
      ],
      "text/plain": [
       "          id  case_num  pn_num  feature_num  \\\n",
       "0  00016_000         0      16            0   \n",
       "1  00016_001         0      16            1   \n",
       "2  00016_002         0      16            2   \n",
       "3  00016_003         0      16            3   \n",
       "4  00016_004         0      16            4   \n",
       "\n",
       "                                 annotation location  \\\n",
       "0          ['dad with recent heart attcak']       []   \n",
       "1             ['mom with \"thyroid disease']       []   \n",
       "2                        ['chest pressure']       []   \n",
       "3      ['intermittent episodes', 'episode']       []   \n",
       "4  ['felt as if he were going to pass out']       []   \n",
       "\n",
       "                                        feature_text  \\\n",
       "0  Family-history-of-MI-OR-Family-history-of-myoc...   \n",
       "1                 Family-history-of-thyroid-disorder   \n",
       "2                                     Chest-pressure   \n",
       "3                              Intermittent-symptoms   \n",
       "4                                        Lightheaded   \n",
       "\n",
       "                                       combined_note  \n",
       "0  HPI: 17yo M presents with palpitations. Patien...  \n",
       "1  HPI: 17yo M presents with palpitations. Patien...  \n",
       "2  HPI: 17yo M presents with palpitations. Patien...  \n",
       "3  HPI: 17yo M presents with palpitations. Patien...  \n",
       "4  HPI: 17yo M presents with palpitations. Patien...  "
      ]
     },
     "execution_count": 30,
     "metadata": {},
     "output_type": "execute_result"
    }
   ],
   "source": [
    "df_annotations.head()"
   ]
  },
  {
   "cell_type": "code",
   "execution_count": 33,
   "metadata": {
    "execution": {
     "iopub.execute_input": "2024-03-28T17:21:04.615454Z",
     "iopub.status.busy": "2024-03-28T17:21:04.615074Z",
     "iopub.status.idle": "2024-03-28T17:21:04.980049Z",
     "shell.execute_reply": "2024-03-28T17:21:04.979070Z",
     "shell.execute_reply.started": "2024-03-28T17:21:04.615427Z"
    }
   },
   "outputs": [],
   "source": [
    "df_annotations.to_csv('/kaggle/working/combined.csv')"
   ]
  },
  {
   "cell_type": "code",
   "execution_count": 37,
   "metadata": {
    "execution": {
     "iopub.execute_input": "2024-03-28T17:27:30.239213Z",
     "iopub.status.busy": "2024-03-28T17:27:30.238808Z",
     "iopub.status.idle": "2024-03-28T17:27:30.252613Z",
     "shell.execute_reply": "2024-03-28T17:27:30.251082Z",
     "shell.execute_reply.started": "2024-03-28T17:27:30.239185Z"
    }
   },
   "outputs": [],
   "source": [
    "df_annotations.dropna(subset=['feature_text'], inplace=True)  "
   ]
  },
  {
   "cell_type": "code",
   "execution_count": 40,
   "metadata": {
    "execution": {
     "iopub.execute_input": "2024-03-28T17:28:18.052784Z",
     "iopub.status.busy": "2024-03-28T17:28:18.052366Z",
     "iopub.status.idle": "2024-03-28T17:28:18.063730Z",
     "shell.execute_reply": "2024-03-28T17:28:18.061996Z",
     "shell.execute_reply.started": "2024-03-28T17:28:18.052752Z"
    }
   },
   "outputs": [],
   "source": [
    "df_annotations.dropna(subset=['combined_note'], inplace=True)  "
   ]
  },
  {
   "cell_type": "code",
   "execution_count": 41,
   "metadata": {
    "execution": {
     "iopub.execute_input": "2024-03-28T17:29:20.819594Z",
     "iopub.status.busy": "2024-03-28T17:29:20.819164Z",
     "iopub.status.idle": "2024-03-28T17:29:20.826794Z",
     "shell.execute_reply": "2024-03-28T17:29:20.825513Z",
     "shell.execute_reply.started": "2024-03-28T17:29:20.819562Z"
    }
   },
   "outputs": [],
   "source": [
    "df_annotations = df_annotations.drop('location', axis=1)  \n"
   ]
  },
  {
   "cell_type": "code",
   "execution_count": 42,
   "metadata": {
    "execution": {
     "iopub.execute_input": "2024-03-28T17:29:23.286937Z",
     "iopub.status.busy": "2024-03-28T17:29:23.285981Z",
     "iopub.status.idle": "2024-03-28T17:29:23.301600Z",
     "shell.execute_reply": "2024-03-28T17:29:23.300493Z",
     "shell.execute_reply.started": "2024-03-28T17:29:23.286894Z"
    }
   },
   "outputs": [
    {
     "data": {
      "text/html": [
       "<div>\n",
       "<style scoped>\n",
       "    .dataframe tbody tr th:only-of-type {\n",
       "        vertical-align: middle;\n",
       "    }\n",
       "\n",
       "    .dataframe tbody tr th {\n",
       "        vertical-align: top;\n",
       "    }\n",
       "\n",
       "    .dataframe thead th {\n",
       "        text-align: right;\n",
       "    }\n",
       "</style>\n",
       "<table border=\"1\" class=\"dataframe\">\n",
       "  <thead>\n",
       "    <tr style=\"text-align: right;\">\n",
       "      <th></th>\n",
       "      <th>id</th>\n",
       "      <th>case_num</th>\n",
       "      <th>pn_num</th>\n",
       "      <th>feature_num</th>\n",
       "      <th>annotation</th>\n",
       "      <th>feature_text</th>\n",
       "      <th>combined_note</th>\n",
       "    </tr>\n",
       "  </thead>\n",
       "  <tbody>\n",
       "    <tr>\n",
       "      <th>0</th>\n",
       "      <td>00016_000</td>\n",
       "      <td>0</td>\n",
       "      <td>16</td>\n",
       "      <td>0</td>\n",
       "      <td>['dad with recent heart attcak']</td>\n",
       "      <td>Family-history-of-MI-OR-Family-history-of-myoc...</td>\n",
       "      <td>HPI: 17yo M presents with palpitations. Patien...</td>\n",
       "    </tr>\n",
       "    <tr>\n",
       "      <th>1</th>\n",
       "      <td>00016_001</td>\n",
       "      <td>0</td>\n",
       "      <td>16</td>\n",
       "      <td>1</td>\n",
       "      <td>['mom with \"thyroid disease']</td>\n",
       "      <td>Family-history-of-thyroid-disorder</td>\n",
       "      <td>HPI: 17yo M presents with palpitations. Patien...</td>\n",
       "    </tr>\n",
       "    <tr>\n",
       "      <th>2</th>\n",
       "      <td>00016_002</td>\n",
       "      <td>0</td>\n",
       "      <td>16</td>\n",
       "      <td>2</td>\n",
       "      <td>['chest pressure']</td>\n",
       "      <td>Chest-pressure</td>\n",
       "      <td>HPI: 17yo M presents with palpitations. Patien...</td>\n",
       "    </tr>\n",
       "    <tr>\n",
       "      <th>3</th>\n",
       "      <td>00016_003</td>\n",
       "      <td>0</td>\n",
       "      <td>16</td>\n",
       "      <td>3</td>\n",
       "      <td>['intermittent episodes', 'episode']</td>\n",
       "      <td>Intermittent-symptoms</td>\n",
       "      <td>HPI: 17yo M presents with palpitations. Patien...</td>\n",
       "    </tr>\n",
       "    <tr>\n",
       "      <th>4</th>\n",
       "      <td>00016_004</td>\n",
       "      <td>0</td>\n",
       "      <td>16</td>\n",
       "      <td>4</td>\n",
       "      <td>['felt as if he were going to pass out']</td>\n",
       "      <td>Lightheaded</td>\n",
       "      <td>HPI: 17yo M presents with palpitations. Patien...</td>\n",
       "    </tr>\n",
       "    <tr>\n",
       "      <th>...</th>\n",
       "      <td>...</td>\n",
       "      <td>...</td>\n",
       "      <td>...</td>\n",
       "      <td>...</td>\n",
       "      <td>...</td>\n",
       "      <td>...</td>\n",
       "      <td>...</td>\n",
       "    </tr>\n",
       "    <tr>\n",
       "      <th>14295</th>\n",
       "      <td>95333_912</td>\n",
       "      <td>9</td>\n",
       "      <td>95333</td>\n",
       "      <td>912</td>\n",
       "      <td>[]</td>\n",
       "      <td>Family-history-of-migraines</td>\n",
       "      <td>Stephanie madden is a 20 year old woman compla...</td>\n",
       "    </tr>\n",
       "    <tr>\n",
       "      <th>14296</th>\n",
       "      <td>95333_913</td>\n",
       "      <td>9</td>\n",
       "      <td>95333</td>\n",
       "      <td>913</td>\n",
       "      <td>[]</td>\n",
       "      <td>Female</td>\n",
       "      <td>Stephanie madden is a 20 year old woman compla...</td>\n",
       "    </tr>\n",
       "    <tr>\n",
       "      <th>14297</th>\n",
       "      <td>95333_914</td>\n",
       "      <td>9</td>\n",
       "      <td>95333</td>\n",
       "      <td>914</td>\n",
       "      <td>['photobia']</td>\n",
       "      <td>Photophobia</td>\n",
       "      <td>Stephanie madden is a 20 year old woman compla...</td>\n",
       "    </tr>\n",
       "    <tr>\n",
       "      <th>14298</th>\n",
       "      <td>95333_915</td>\n",
       "      <td>9</td>\n",
       "      <td>95333</td>\n",
       "      <td>915</td>\n",
       "      <td>['no sick contacts']</td>\n",
       "      <td>No-known-illness-contacts</td>\n",
       "      <td>Stephanie madden is a 20 year old woman compla...</td>\n",
       "    </tr>\n",
       "    <tr>\n",
       "      <th>14299</th>\n",
       "      <td>95333_916</td>\n",
       "      <td>9</td>\n",
       "      <td>95333</td>\n",
       "      <td>916</td>\n",
       "      <td>['Subjective fever']</td>\n",
       "      <td>Subjective-fever</td>\n",
       "      <td>Stephanie madden is a 20 year old woman compla...</td>\n",
       "    </tr>\n",
       "  </tbody>\n",
       "</table>\n",
       "<p>14300 rows × 7 columns</p>\n",
       "</div>"
      ],
      "text/plain": [
       "              id  case_num  pn_num  feature_num  \\\n",
       "0      00016_000         0      16            0   \n",
       "1      00016_001         0      16            1   \n",
       "2      00016_002         0      16            2   \n",
       "3      00016_003         0      16            3   \n",
       "4      00016_004         0      16            4   \n",
       "...          ...       ...     ...          ...   \n",
       "14295  95333_912         9   95333          912   \n",
       "14296  95333_913         9   95333          913   \n",
       "14297  95333_914         9   95333          914   \n",
       "14298  95333_915         9   95333          915   \n",
       "14299  95333_916         9   95333          916   \n",
       "\n",
       "                                     annotation  \\\n",
       "0              ['dad with recent heart attcak']   \n",
       "1                 ['mom with \"thyroid disease']   \n",
       "2                            ['chest pressure']   \n",
       "3          ['intermittent episodes', 'episode']   \n",
       "4      ['felt as if he were going to pass out']   \n",
       "...                                         ...   \n",
       "14295                                        []   \n",
       "14296                                        []   \n",
       "14297                              ['photobia']   \n",
       "14298                      ['no sick contacts']   \n",
       "14299                      ['Subjective fever']   \n",
       "\n",
       "                                            feature_text  \\\n",
       "0      Family-history-of-MI-OR-Family-history-of-myoc...   \n",
       "1                     Family-history-of-thyroid-disorder   \n",
       "2                                         Chest-pressure   \n",
       "3                                  Intermittent-symptoms   \n",
       "4                                            Lightheaded   \n",
       "...                                                  ...   \n",
       "14295                        Family-history-of-migraines   \n",
       "14296                                             Female   \n",
       "14297                                        Photophobia   \n",
       "14298                          No-known-illness-contacts   \n",
       "14299                                   Subjective-fever   \n",
       "\n",
       "                                           combined_note  \n",
       "0      HPI: 17yo M presents with palpitations. Patien...  \n",
       "1      HPI: 17yo M presents with palpitations. Patien...  \n",
       "2      HPI: 17yo M presents with palpitations. Patien...  \n",
       "3      HPI: 17yo M presents with palpitations. Patien...  \n",
       "4      HPI: 17yo M presents with palpitations. Patien...  \n",
       "...                                                  ...  \n",
       "14295  Stephanie madden is a 20 year old woman compla...  \n",
       "14296  Stephanie madden is a 20 year old woman compla...  \n",
       "14297  Stephanie madden is a 20 year old woman compla...  \n",
       "14298  Stephanie madden is a 20 year old woman compla...  \n",
       "14299  Stephanie madden is a 20 year old woman compla...  \n",
       "\n",
       "[14300 rows x 7 columns]"
      ]
     },
     "execution_count": 42,
     "metadata": {},
     "output_type": "execute_result"
    }
   ],
   "source": [
    "df_annotations"
   ]
  },
  {
   "cell_type": "code",
   "execution_count": 43,
   "metadata": {
    "execution": {
     "iopub.execute_input": "2024-03-28T17:29:41.380156Z",
     "iopub.status.busy": "2024-03-28T17:29:41.379740Z",
     "iopub.status.idle": "2024-03-28T17:29:41.747607Z",
     "shell.execute_reply": "2024-03-28T17:29:41.746641Z",
     "shell.execute_reply.started": "2024-03-28T17:29:41.380123Z"
    }
   },
   "outputs": [],
   "source": [
    "df_annotations.to_csv('/kaggle/working/combined.csv')"
   ]
  },
  {
   "cell_type": "code",
   "execution_count": 44,
   "metadata": {
    "execution": {
     "iopub.execute_input": "2024-03-28T17:31:42.176730Z",
     "iopub.status.busy": "2024-03-28T17:31:42.176321Z",
     "iopub.status.idle": "2024-03-28T17:31:42.185582Z",
     "shell.execute_reply": "2024-03-28T17:31:42.184418Z",
     "shell.execute_reply.started": "2024-03-28T17:31:42.176702Z"
    }
   },
   "outputs": [],
   "source": [
    "\n",
    "data_array = df_annotations.to_numpy()  # Convert the DataFrame to a NumPy array\n"
   ]
  },
  {
   "cell_type": "code",
   "execution_count": 46,
   "metadata": {
    "execution": {
     "iopub.execute_input": "2024-03-28T17:32:21.319704Z",
     "iopub.status.busy": "2024-03-28T17:32:21.319319Z",
     "iopub.status.idle": "2024-03-28T17:32:21.337341Z",
     "shell.execute_reply": "2024-03-28T17:32:21.336024Z",
     "shell.execute_reply.started": "2024-03-28T17:32:21.319679Z"
    }
   },
   "outputs": [],
   "source": [
    "np.save('/kaggle/working/combined_features_patient_notes.npy', data_array) "
   ]
  },
  {
   "cell_type": "code",
   "execution_count": null,
   "metadata": {},
   "outputs": [],
   "source": []
  },
  {
   "cell_type": "code",
   "execution_count": 1,
   "metadata": {
    "tags": []
   },
   "outputs": [],
   "source": [
    "import numpy as np"
   ]
  },
  {
   "cell_type": "code",
   "execution_count": 5,
   "metadata": {
    "tags": []
   },
   "outputs": [],
   "source": [
    "x = np.load(\"../Data_FineTune/combined_features_patient_notes.npy\", allow_pickle=True)"
   ]
  },
  {
   "cell_type": "code",
   "execution_count": 7,
   "metadata": {
    "tags": []
   },
   "outputs": [
    {
     "data": {
      "text/plain": [
       "array(['00016_000', 0, 16, 0, \"['dad with recent heart attcak']\",\n",
       "       'Family-history-of-MI-OR-Family-history-of-myocardial-infarction',\n",
       "       'HPI: 17yo M presents with palpitations. Patient reports 3-4 months of intermittent episodes of \"heart beating/pounding out of my chest.\" 2 days ago during a soccer game had an episode, but this time had chest pressure and felt as if he were going to pass out (did not lose conciousness). Of note patient endorses abusing adderall, primarily to study (1-3 times per week). Before recent soccer game, took adderrall night before and morning of game. Denies shortness of breath, diaphoresis, fevers, chills, headache, fatigue, changes in sleep, changes in vision/hearing, abdominal paun, changes in bowel or urinary habits. \\r\\nPMHx: none\\r\\nRx: uses friends adderrall\\r\\nFHx: mom with \"thyroid disease,\" dad with recent heart attcak\\r\\nAll: none\\r\\nImmunizations: up to date\\r\\nSHx: Freshmen in college. Endorses 3-4 drinks 3 nights / week (on weekends), denies tabacco, endorses trying marijuana. Sexually active with girlfriend x 1 year, uses condoms'],\n",
       "      dtype=object)"
      ]
     },
     "execution_count": 7,
     "metadata": {},
     "output_type": "execute_result"
    }
   ],
   "source": [
    "x[0]"
   ]
  },
  {
   "cell_type": "code",
   "execution_count": null,
   "metadata": {},
   "outputs": [],
   "source": []
  }
 ],
 "metadata": {
  "kaggle": {
   "accelerator": "none",
   "dataSources": [
    {
     "databundleVersionId": 3075283,
     "sourceId": 33607,
     "sourceType": "competition"
    },
    {
     "isSourceIdPinned": true,
     "modelInstanceId": 3900,
     "sourceId": 5112,
     "sourceType": "modelInstanceVersion"
    },
    {
     "isSourceIdPinned": true,
     "modelInstanceId": 4762,
     "sourceId": 5995,
     "sourceType": "modelInstanceVersion"
    }
   ],
   "dockerImageVersionId": 30646,
   "isGpuEnabled": false,
   "isInternetEnabled": true,
   "language": "python",
   "sourceType": "notebook"
  },
  "kernelspec": {
   "display_name": "PyTorch-2.2.0",
   "language": "python",
   "name": "pytorch-2.2.0"
  },
  "language_info": {
   "codemirror_mode": {
    "name": "ipython",
    "version": 3
   },
   "file_extension": ".py",
   "mimetype": "text/x-python",
   "name": "python",
   "nbconvert_exporter": "python",
   "pygments_lexer": "ipython3",
   "version": "3.10.13"
  }
 },
 "nbformat": 4,
 "nbformat_minor": 4
}
